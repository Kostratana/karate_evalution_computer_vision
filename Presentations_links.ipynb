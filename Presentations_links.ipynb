{
  "nbformat": 4,
  "nbformat_minor": 0,
  "metadata": {
    "colab": {
      "provenance": [],
      "authorship_tag": "ABX9TyOzCX+m/ujC7jz+QY6kswGf",
      "include_colab_link": true
    },
    "kernelspec": {
      "name": "python3",
      "display_name": "Python 3"
    },
    "language_info": {
      "name": "python"
    }
  },
  "cells": [
    {
      "cell_type": "markdown",
      "metadata": {
        "id": "view-in-github",
        "colab_type": "text"
      },
      "source": [
        "<a href=\"https://colab.research.google.com/github/Kostratana/karate_evalution_computer_vision/blob/main/Presentations_links.ipynb\" target=\"_parent\"><img src=\"https://colab.research.google.com/assets/colab-badge.svg\" alt=\"Open In Colab\"/></a>"
      ]
    },
    {
      "cell_type": "markdown",
      "source": [
        "Russian version link\n",
        "https://drive.google.com/file/d/155NW3lWaQtjv28xMbt4ZDcXIKgSIeohh/view?usp=sharing\n",
        "\n",
        "Egnlish version link\n",
        "https://drive.google.com/file/d/1sRJllfr1IKMQe14bU7fOcdZIWe88YbD3/view?usp=sharing"
      ],
      "metadata": {
        "id": "rvvom13ftDgF"
      }
    }
  ]
}